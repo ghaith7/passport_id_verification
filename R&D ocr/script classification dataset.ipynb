{
 "cells": [
  {
   "cell_type": "code",
   "execution_count": 1,
   "id": "10ccdd06",
   "metadata": {},
   "outputs": [],
   "source": [
    "import cv2\n",
    "import imutils\n",
    "import matplotlib.pyplot as plt\n",
    "import os\n",
    "import pandas as pd\n",
    "import numpy as np\n",
    "from deskew import determine_skew\n",
    "import face_recognition\n",
    "import time\n",
    "from skimage.transform import rotate\n",
    "from deskew import determine_skew"
   ]
  },
  {
   "cell_type": "code",
   "execution_count": 2,
   "id": "b30409a3",
   "metadata": {},
   "outputs": [],
   "source": [
    "def face_detect_rotate(image):\n",
    "    trials = 0\n",
    "    while(trials<4):\n",
    "        gray = cv2.cvtColor(image, cv2.COLOR_BGR2GRAY)\n",
    "        face_locations = face_recognition.face_locations(gray)\n",
    "        if(len(face_locations)>0):\n",
    "            main_face = max(face_locations,key = lambda x : abs(x[0] - x[2]) * abs(x[1] - x[3]))\n",
    "            leftX = main_face[1]\n",
    "            return (leftX,image)\n",
    "        else : \n",
    "            image = cv2.rotate(image, cv2.ROTATE_90_CLOCKWISE) \n",
    "            trials += 1\n",
    "    return 0\n",
    "def traditional_processing(image,kw,kh):\n",
    "    gray = cv2.cvtColor(image, cv2.COLOR_BGR2GRAY)\n",
    "    kernel = cv2.getStructuringElement(cv2.MORPH_RECT, (kw, kh))\n",
    "    gray = cv2.GaussianBlur(gray, (3, 3), 0)\n",
    "    gray = cv2.morphologyEx(gray, cv2.MORPH_BLACKHAT, kernel)\n",
    "    gray = cv2.Sobel(gray, ddepth=cv2.CV_32F, dx=1, dy=0, ksize=-1)\n",
    "    grad = np.absolute(gray)\n",
    "    (minVal, maxVal) = (np.min(grad), np.max(grad))\n",
    "    grad = (grad - minVal) / (maxVal - minVal)\n",
    "    grad = (grad * 255).astype(\"uint8\")\n",
    "    grad = cv2.morphologyEx(grad, cv2.MORPH_CLOSE, kernel)\n",
    "    thresh = cv2.threshold(grad, 0, 255,cv2.THRESH_BINARY | cv2.THRESH_OTSU)[1]\n",
    "    thresh = cv2.dilate(thresh, None, iterations=3)\n",
    "    return thresh\n",
    "def show(image):\n",
    "    fig = plt.figure(figsize=(10, 10))\n",
    "    rows = 1\n",
    "    columns = 1\n",
    "    fig.add_subplot(rows, columns, 1)\n",
    "    plt.imshow(image)\n",
    "    plt.title(\"image\")\n",
    "    plt.axis('off')\n",
    "def show2(im1,im2):\n",
    "    fig = plt.figure(figsize=(15, 10))\n",
    "    rows = 1\n",
    "    columns = 2\n",
    "    fig.add_subplot(rows, columns, 1)\n",
    "    plt.imshow(im1)\n",
    "    plt.title(\"image1\")\n",
    "    plt.axis('off')\n",
    "    fig.add_subplot(rows, columns, 2)\n",
    "    plt.imshow(im2)\n",
    "    plt.title(\"image1\")\n",
    "    plt.axis('off')"
   ]
  },
  {
   "cell_type": "code",
   "execution_count": 3,
   "id": "c519ee3b",
   "metadata": {},
   "outputs": [],
   "source": [
    "from helper_functions import *"
   ]
  },
  {
   "cell_type": "code",
   "execution_count": 4,
   "id": "da64d861",
   "metadata": {},
   "outputs": [],
   "source": [
    "relative_path = \"../Docs/dataset\"\n",
    "passport_list = os.listdir(relative_path)\n",
    "passport_list = [p for p in passport_list if p[-4:]==\".jpg\"]"
   ]
  },
  {
   "cell_type": "code",
   "execution_count": 5,
   "id": "3ec41902",
   "metadata": {},
   "outputs": [],
   "source": [
    "import os\n",
    "os.environ[\"KMP_DUPLICATE_LIB_OK\"]=\"TRUE\"\n",
    "from easyocr import Reader\n",
    "from difflib import SequenceMatcher"
   ]
  },
  {
   "cell_type": "code",
   "execution_count": 6,
   "id": "63d3068e",
   "metadata": {},
   "outputs": [
    {
     "name": "stderr",
     "output_type": "stream",
     "text": [
      "CUDA not available - defaulting to CPU. Note: This module is much faster with a GPU.\n",
      "CUDA not available - defaulting to CPU. Note: This module is much faster with a GPU.\n",
      "CUDA not available - defaulting to CPU. Note: This module is much faster with a GPU.\n"
     ]
    }
   ],
   "source": [
    "def init():\n",
    "    readerLatin = Reader([\"en\"], gpu=True)\n",
    "    readerArabic = Reader([\"ar\"], gpu=True)\n",
    "    readermix = Reader([\"ar\",\"en\"], gpu=True)\n",
    "    return (readerLatin,readerArabic,readermix )\n",
    "(readerLatin,readerArabic,readermix ) = init()"
   ]
  },
  {
   "cell_type": "code",
   "execution_count": 7,
   "id": "011c4ca9",
   "metadata": {},
   "outputs": [],
   "source": [
    "dataset = \"datasets/script_dir\"\n",
    "script = os.path.join(dataset,\"script\")\n",
    "noscript = os.path.join(dataset,\"noscript\")"
   ]
  },
  {
   "cell_type": "code",
   "execution_count": 14,
   "id": "10a0c696",
   "metadata": {},
   "outputs": [],
   "source": [
    "def extract_clips(image,kw,kh,grp_id):\n",
    "    original = image.copy()\n",
    "    image = traditional_processing(image,kw,kh)\n",
    "    im_h,im_w = image.shape[:2]\n",
    "    cnts = cv2.findContours(image.copy(), cv2.RETR_EXTERNAL,cv2.CHAIN_APPROX_SIMPLE)\n",
    "    cnts = imutils.grab_contours(cnts)\n",
    "    exp_id = 0\n",
    "    for c in cnts:\n",
    "        (x, y, w, h) = cv2.boundingRect(c)\n",
    "        (xstart,ystart,xend,yend)=(x,y,x+w,y+h)\n",
    "        clip = original[ystart:yend,xstart:xend]\n",
    "        kernel = np.array([[0, -1, 0],[-1, 5,-1],[0, -1, 0]])\n",
    "        clip = cv2.filter2D(src=clip, ddepth=-1, kernel=kernel)\n",
    "        textsmix = [res[1] for res in readermix.readtext(clip)]\n",
    "        textsara = [res[1] for res in readerArabic.readtext(clip)]\n",
    "        textsltn = [res[1] for res in readerLatin.readtext(clip)]\n",
    "        texts = textsmix + textsara + textsltn\n",
    "        text = \" \".join(texts)\n",
    "        if(text==\"\"):\n",
    "            cv2.imwrite(noscript+\"/\"+str(grp_id)+str(exp_id)+\".jpg\",clip)\n",
    "        else:\n",
    "            cv2.imwrite(script+\"/\"+str(grp_id)+str(exp_id)+\".jpg\",clip)\n",
    "        exp_id+=1"
   ]
  },
  {
   "cell_type": "code",
   "execution_count": 15,
   "id": "be244dc8",
   "metadata": {},
   "outputs": [],
   "source": [
    "def deskewing(image):\n",
    "    gray = cv2.cvtColor(image, cv2.COLOR_BGR2GRAY)\n",
    "    angle = determine_skew(gray)\n",
    "    rotated = rotate(image, angle, resize=True) \n",
    "    return rotated"
   ]
  },
  {
   "cell_type": "code",
   "execution_count": 16,
   "id": "2a64fd6b",
   "metadata": {},
   "outputs": [
    {
     "name": "stdout",
     "output_type": "stream",
     "text": [
      "7%=> 15%=> 23%=> 30%=> 38%=> 46%=> 53%=> 61%=> 69%=> 76%=> 84%=> 92%=> 100%=> completed\n"
     ]
    }
   ],
   "source": [
    "grp_id = 0\n",
    "for passport in passport_list:\n",
    "    image = cv2.imread(os.path.join(relative_path,passport))\n",
    "    original = image.copy()\n",
    "    res = face_detect_rotate(image)\n",
    "    try:\n",
    "        _,rotated = res\n",
    "        image = rotated\n",
    "        kernel = np.array([[0, -1, 0],[-1, 5,-1],[0, -1, 0]])\n",
    "        image = cv2.filter2D(src=image, ddepth=-1, kernel=kernel)\n",
    "        (h,w) = image.shape[:2]\n",
    "        area = (h*w)\n",
    "        #image = deskewing(image)\n",
    "        while(area < 900*1500):\n",
    "            image = cv2.resize(image, ( int(w*1.4), int(h*1.4) ), interpolation = cv2.INTER_AREA)\n",
    "            (h,w) = image.shape[:2]\n",
    "            area = (h*w)\n",
    "        extract_clips(image,40,8,grp_id)\n",
    "    except Exception as e: \n",
    "        print(\"/ skipping nb : \",grp_id,\"  face not found /\",e )\n",
    "    grp_id += 1\n",
    "    print( str( int (grp_id / len(passport_list) * 100) )+ \"%\" ,end=\"=> \")\n",
    "print(\"completed\")"
   ]
  },
  {
   "cell_type": "code",
   "execution_count": 11,
   "id": "44001851",
   "metadata": {},
   "outputs": [
    {
     "data": {
      "text/plain": [
       "(462, 720, 3)"
      ]
     },
     "execution_count": 11,
     "metadata": {},
     "output_type": "execute_result"
    }
   ],
   "source": [
    "image = cv2.imread(\"testing.jpg\")\n",
    "image.shape"
   ]
  },
  {
   "cell_type": "code",
   "execution_count": 31,
   "id": "6fa245fd",
   "metadata": {},
   "outputs": [
    {
     "name": "stdout",
     "output_type": "stream",
     "text": [
      "0\n"
     ]
    }
   ],
   "source": [
    "text = \" \".join(\"\")\n",
    "print(len(text))"
   ]
  },
  {
   "cell_type": "code",
   "execution_count": 13,
   "id": "a21b6946",
   "metadata": {},
   "outputs": [
    {
     "name": "stdout",
     "output_type": "stream",
     "text": [
      "714\n",
      "1701\n"
     ]
    }
   ],
   "source": [
    "print(len(os.listdir(script)))\n",
    "print(len(os.listdir(noscript)))"
   ]
  },
  {
   "cell_type": "code",
   "execution_count": 12,
   "id": "9a585266",
   "metadata": {},
   "outputs": [],
   "source": [
    "for i in os.listdir(noscript) : \n",
    "    path = os.path.join(noscript,i)\n",
    "    im = cv2.imread(path)\n",
    "    (h,w) = im.shape[:2]\n",
    "    if(h*w <=100):\n",
    "        os.remove(path)"
   ]
  },
  {
   "cell_type": "code",
   "execution_count": 66,
   "id": "74e2ae44",
   "metadata": {},
   "outputs": [
    {
     "data": {
      "text/html": [
       "<div>\n",
       "<style scoped>\n",
       "    .dataframe tbody tr th:only-of-type {\n",
       "        vertical-align: middle;\n",
       "    }\n",
       "\n",
       "    .dataframe tbody tr th {\n",
       "        vertical-align: top;\n",
       "    }\n",
       "\n",
       "    .dataframe thead th {\n",
       "        text-align: right;\n",
       "    }\n",
       "</style>\n",
       "<table border=\"1\" class=\"dataframe\">\n",
       "  <thead>\n",
       "    <tr style=\"text-align: right;\">\n",
       "      <th></th>\n",
       "      <th>0</th>\n",
       "      <th>1</th>\n",
       "      <th>2</th>\n",
       "      <th>3</th>\n",
       "      <th>4</th>\n",
       "    </tr>\n",
       "  </thead>\n",
       "  <tbody>\n",
       "    <tr>\n",
       "      <th>0</th>\n",
       "      <td>47</td>\n",
       "      <td>1182</td>\n",
       "      <td>55554</td>\n",
       "      <td>0.039763</td>\n",
       "      <td>0</td>\n",
       "    </tr>\n",
       "    <tr>\n",
       "      <th>1</th>\n",
       "      <td>48</td>\n",
       "      <td>1182</td>\n",
       "      <td>56736</td>\n",
       "      <td>0.040609</td>\n",
       "      <td>0</td>\n",
       "    </tr>\n",
       "    <tr>\n",
       "      <th>2</th>\n",
       "      <td>34</td>\n",
       "      <td>222</td>\n",
       "      <td>7548</td>\n",
       "      <td>0.153153</td>\n",
       "      <td>0</td>\n",
       "    </tr>\n",
       "    <tr>\n",
       "      <th>3</th>\n",
       "      <td>44</td>\n",
       "      <td>209</td>\n",
       "      <td>9196</td>\n",
       "      <td>0.210526</td>\n",
       "      <td>0</td>\n",
       "    </tr>\n",
       "    <tr>\n",
       "      <th>4</th>\n",
       "      <td>37</td>\n",
       "      <td>302</td>\n",
       "      <td>11174</td>\n",
       "      <td>0.122517</td>\n",
       "      <td>0</td>\n",
       "    </tr>\n",
       "    <tr>\n",
       "      <th>...</th>\n",
       "      <td>...</td>\n",
       "      <td>...</td>\n",
       "      <td>...</td>\n",
       "      <td>...</td>\n",
       "      <td>...</td>\n",
       "    </tr>\n",
       "    <tr>\n",
       "      <th>2372</th>\n",
       "      <td>9</td>\n",
       "      <td>39</td>\n",
       "      <td>351</td>\n",
       "      <td>0.230769</td>\n",
       "      <td>1</td>\n",
       "    </tr>\n",
       "    <tr>\n",
       "      <th>2373</th>\n",
       "      <td>26</td>\n",
       "      <td>90</td>\n",
       "      <td>2340</td>\n",
       "      <td>0.288889</td>\n",
       "      <td>1</td>\n",
       "    </tr>\n",
       "    <tr>\n",
       "      <th>2374</th>\n",
       "      <td>25</td>\n",
       "      <td>37</td>\n",
       "      <td>925</td>\n",
       "      <td>0.675676</td>\n",
       "      <td>1</td>\n",
       "    </tr>\n",
       "    <tr>\n",
       "      <th>2375</th>\n",
       "      <td>29</td>\n",
       "      <td>72</td>\n",
       "      <td>2088</td>\n",
       "      <td>0.402778</td>\n",
       "      <td>1</td>\n",
       "    </tr>\n",
       "    <tr>\n",
       "      <th>2376</th>\n",
       "      <td>84</td>\n",
       "      <td>16</td>\n",
       "      <td>1344</td>\n",
       "      <td>5.250000</td>\n",
       "      <td>1</td>\n",
       "    </tr>\n",
       "  </tbody>\n",
       "</table>\n",
       "<p>2377 rows × 5 columns</p>\n",
       "</div>"
      ],
      "text/plain": [
       "       0     1      2         3  4\n",
       "0     47  1182  55554  0.039763  0\n",
       "1     48  1182  56736  0.040609  0\n",
       "2     34   222   7548  0.153153  0\n",
       "3     44   209   9196  0.210526  0\n",
       "4     37   302  11174  0.122517  0\n",
       "...   ..   ...    ...       ... ..\n",
       "2372   9    39    351  0.230769  1\n",
       "2373  26    90   2340  0.288889  1\n",
       "2374  25    37    925  0.675676  1\n",
       "2375  29    72   2088  0.402778  1\n",
       "2376  84    16   1344  5.250000  1\n",
       "\n",
       "[2377 rows x 5 columns]"
      ]
     },
     "execution_count": 66,
     "metadata": {},
     "output_type": "execute_result"
    }
   ],
   "source": [
    "classes = [script,noscript]\n",
    "rows = []\n",
    "for c in classes:\n",
    "    records = os.listdir(c)\n",
    "    i = classes.index(c)\n",
    "    for r in records:\n",
    "        path = path = os.path.join(c,r)\n",
    "        im = cv2.imread(path)\n",
    "        (h,w) = im.shape[:2]\n",
    "        area = h*w\n",
    "        ratio = h/w\n",
    "        row = [h,w,area,ratio,i]\n",
    "        rows.append(row)\n",
    "df = pd.DataFrame(rows)\n",
    "df"
   ]
  },
  {
   "cell_type": "code",
   "execution_count": 67,
   "id": "c156ed38",
   "metadata": {},
   "outputs": [
    {
     "data": {
      "text/html": [
       "<div>\n",
       "<style scoped>\n",
       "    .dataframe tbody tr th:only-of-type {\n",
       "        vertical-align: middle;\n",
       "    }\n",
       "\n",
       "    .dataframe tbody tr th {\n",
       "        vertical-align: top;\n",
       "    }\n",
       "\n",
       "    .dataframe thead th {\n",
       "        text-align: right;\n",
       "    }\n",
       "</style>\n",
       "<table border=\"1\" class=\"dataframe\">\n",
       "  <thead>\n",
       "    <tr style=\"text-align: right;\">\n",
       "      <th></th>\n",
       "      <th>0</th>\n",
       "      <th>1</th>\n",
       "      <th>2</th>\n",
       "      <th>3</th>\n",
       "      <th>4</th>\n",
       "    </tr>\n",
       "  </thead>\n",
       "  <tbody>\n",
       "    <tr>\n",
       "      <th>count</th>\n",
       "      <td>2377.000000</td>\n",
       "      <td>2377.000000</td>\n",
       "      <td>2.377000e+03</td>\n",
       "      <td>2377.000000</td>\n",
       "      <td>2377.000000</td>\n",
       "    </tr>\n",
       "    <tr>\n",
       "      <th>mean</th>\n",
       "      <td>44.911653</td>\n",
       "      <td>140.961296</td>\n",
       "      <td>1.142842e+04</td>\n",
       "      <td>0.987088</td>\n",
       "      <td>0.699621</td>\n",
       "    </tr>\n",
       "    <tr>\n",
       "      <th>std</th>\n",
       "      <td>87.001479</td>\n",
       "      <td>229.701498</td>\n",
       "      <td>4.946799e+04</td>\n",
       "      <td>2.018593</td>\n",
       "      <td>0.458519</td>\n",
       "    </tr>\n",
       "    <tr>\n",
       "      <th>min</th>\n",
       "      <td>7.000000</td>\n",
       "      <td>7.000000</td>\n",
       "      <td>1.040000e+02</td>\n",
       "      <td>0.026477</td>\n",
       "      <td>0.000000</td>\n",
       "    </tr>\n",
       "    <tr>\n",
       "      <th>25%</th>\n",
       "      <td>15.000000</td>\n",
       "      <td>17.000000</td>\n",
       "      <td>2.790000e+02</td>\n",
       "      <td>0.237500</td>\n",
       "      <td>0.000000</td>\n",
       "    </tr>\n",
       "    <tr>\n",
       "      <th>50%</th>\n",
       "      <td>28.000000</td>\n",
       "      <td>48.000000</td>\n",
       "      <td>1.372000e+03</td>\n",
       "      <td>0.490000</td>\n",
       "      <td>1.000000</td>\n",
       "    </tr>\n",
       "    <tr>\n",
       "      <th>75%</th>\n",
       "      <td>47.000000</td>\n",
       "      <td>166.000000</td>\n",
       "      <td>7.455000e+03</td>\n",
       "      <td>1.050000</td>\n",
       "      <td>1.000000</td>\n",
       "    </tr>\n",
       "    <tr>\n",
       "      <th>max</th>\n",
       "      <td>2000.000000</td>\n",
       "      <td>1747.000000</td>\n",
       "      <td>1.806336e+06</td>\n",
       "      <td>47.119048</td>\n",
       "      <td>1.000000</td>\n",
       "    </tr>\n",
       "  </tbody>\n",
       "</table>\n",
       "</div>"
      ],
      "text/plain": [
       "                 0            1             2            3            4\n",
       "count  2377.000000  2377.000000  2.377000e+03  2377.000000  2377.000000\n",
       "mean     44.911653   140.961296  1.142842e+04     0.987088     0.699621\n",
       "std      87.001479   229.701498  4.946799e+04     2.018593     0.458519\n",
       "min       7.000000     7.000000  1.040000e+02     0.026477     0.000000\n",
       "25%      15.000000    17.000000  2.790000e+02     0.237500     0.000000\n",
       "50%      28.000000    48.000000  1.372000e+03     0.490000     1.000000\n",
       "75%      47.000000   166.000000  7.455000e+03     1.050000     1.000000\n",
       "max    2000.000000  1747.000000  1.806336e+06    47.119048     1.000000"
      ]
     },
     "execution_count": 67,
     "metadata": {},
     "output_type": "execute_result"
    }
   ],
   "source": [
    "df.describe()"
   ]
  },
  {
   "cell_type": "code",
   "execution_count": 68,
   "id": "e7129fc7",
   "metadata": {},
   "outputs": [
    {
     "ename": "KeyError",
     "evalue": "False",
     "output_type": "error",
     "traceback": [
      "\u001b[1;31m---------------------------------------------------------------------------\u001b[0m",
      "\u001b[1;31mKeyError\u001b[0m                                  Traceback (most recent call last)",
      "Input \u001b[1;32mIn [68]\u001b[0m, in \u001b[0;36m<cell line: 1>\u001b[1;34m()\u001b[0m\n\u001b[1;32m----> 1\u001b[0m \u001b[43mdf\u001b[49m\u001b[43m[\u001b[49m\u001b[38;5;241;43m4\u001b[39;49m\u001b[38;5;241;43m==\u001b[39;49m\u001b[38;5;241;43m0\u001b[39;49m\u001b[43m]\u001b[49m\u001b[38;5;241m.\u001b[39mdescribe()\n",
      "File \u001b[1;32m~\\anaconda3\\lib\\site-packages\\pandas\\core\\frame.py:3505\u001b[0m, in \u001b[0;36mDataFrame.__getitem__\u001b[1;34m(self, key)\u001b[0m\n\u001b[0;32m   3503\u001b[0m \u001b[38;5;28;01mif\u001b[39;00m \u001b[38;5;28mself\u001b[39m\u001b[38;5;241m.\u001b[39mcolumns\u001b[38;5;241m.\u001b[39mnlevels \u001b[38;5;241m>\u001b[39m \u001b[38;5;241m1\u001b[39m:\n\u001b[0;32m   3504\u001b[0m     \u001b[38;5;28;01mreturn\u001b[39;00m \u001b[38;5;28mself\u001b[39m\u001b[38;5;241m.\u001b[39m_getitem_multilevel(key)\n\u001b[1;32m-> 3505\u001b[0m indexer \u001b[38;5;241m=\u001b[39m \u001b[38;5;28;43mself\u001b[39;49m\u001b[38;5;241;43m.\u001b[39;49m\u001b[43mcolumns\u001b[49m\u001b[38;5;241;43m.\u001b[39;49m\u001b[43mget_loc\u001b[49m\u001b[43m(\u001b[49m\u001b[43mkey\u001b[49m\u001b[43m)\u001b[49m\n\u001b[0;32m   3506\u001b[0m \u001b[38;5;28;01mif\u001b[39;00m is_integer(indexer):\n\u001b[0;32m   3507\u001b[0m     indexer \u001b[38;5;241m=\u001b[39m [indexer]\n",
      "File \u001b[1;32m~\\anaconda3\\lib\\site-packages\\pandas\\core\\indexes\\range.py:389\u001b[0m, in \u001b[0;36mRangeIndex.get_loc\u001b[1;34m(self, key, method, tolerance)\u001b[0m\n\u001b[0;32m    387\u001b[0m             \u001b[38;5;28;01mraise\u001b[39;00m \u001b[38;5;167;01mKeyError\u001b[39;00m(key) \u001b[38;5;28;01mfrom\u001b[39;00m \u001b[38;5;21;01merr\u001b[39;00m\n\u001b[0;32m    388\u001b[0m     \u001b[38;5;28mself\u001b[39m\u001b[38;5;241m.\u001b[39m_check_indexing_error(key)\n\u001b[1;32m--> 389\u001b[0m     \u001b[38;5;28;01mraise\u001b[39;00m \u001b[38;5;167;01mKeyError\u001b[39;00m(key)\n\u001b[0;32m    390\u001b[0m \u001b[38;5;28;01mreturn\u001b[39;00m \u001b[38;5;28msuper\u001b[39m()\u001b[38;5;241m.\u001b[39mget_loc(key, method\u001b[38;5;241m=\u001b[39mmethod, tolerance\u001b[38;5;241m=\u001b[39mtolerance)\n",
      "\u001b[1;31mKeyError\u001b[0m: False"
     ]
    }
   ],
   "source": [
    "df[4==0].describe()"
   ]
  },
  {
   "cell_type": "code",
   "execution_count": 17,
   "id": "7a33c8a8",
   "metadata": {},
   "outputs": [],
   "source": [
    "classes = [script,noscript]\n",
    "for c in classes:\n",
    "    records = os.listdir(c)\n",
    "    for r in records:\n",
    "        path = path = os.path.join(c,r)\n",
    "        im = cv2.imread(path)\n",
    "        resized = cv2.resize(im, (228,228), interpolation = cv2.INTER_AREA)\n",
    "        os.remove(path)\n",
    "        cv2.imwrite(path,resized)"
   ]
  },
  {
   "cell_type": "code",
   "execution_count": null,
   "id": "5605da03",
   "metadata": {},
   "outputs": [],
   "source": []
  }
 ],
 "metadata": {
  "kernelspec": {
   "display_name": "Python 3 (ipykernel)",
   "language": "python",
   "name": "python3"
  },
  "language_info": {
   "codemirror_mode": {
    "name": "ipython",
    "version": 3
   },
   "file_extension": ".py",
   "mimetype": "text/x-python",
   "name": "python",
   "nbconvert_exporter": "python",
   "pygments_lexer": "ipython3",
   "version": "3.9.12"
  }
 },
 "nbformat": 4,
 "nbformat_minor": 5
}
