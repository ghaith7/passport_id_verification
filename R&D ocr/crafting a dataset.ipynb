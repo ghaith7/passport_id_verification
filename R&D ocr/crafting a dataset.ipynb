{
 "cells": [
  {
   "cell_type": "code",
   "execution_count": 1,
   "id": "238908a1",
   "metadata": {},
   "outputs": [],
   "source": [
    "import cv2\n",
    "import imutils\n",
    "import matplotlib.pyplot as plt\n",
    "import os\n",
    "import pandas as pd\n",
    "import numpy as np\n",
    "from deskew import determine_skew\n",
    "import face_recognition\n",
    "import time"
   ]
  },
  {
   "cell_type": "code",
   "execution_count": 2,
   "id": "5b63ef14",
   "metadata": {},
   "outputs": [],
   "source": [
    "def traditional_processing(image,kw,kh):\n",
    "    gray = cv2.cvtColor(image, cv2.COLOR_BGR2GRAY)\n",
    "    kernel = cv2.getStructuringElement(cv2.MORPH_RECT, (kw, kh))\n",
    "    gray = cv2.GaussianBlur(gray, (3, 3), 0)\n",
    "    gray = cv2.morphologyEx(gray, cv2.MORPH_BLACKHAT, kernel)\n",
    "    gray = cv2.Sobel(gray, ddepth=cv2.CV_32F, dx=1, dy=0, ksize=-1)\n",
    "    grad = np.absolute(gray)\n",
    "    (minVal, maxVal) = (np.min(grad), np.max(grad))\n",
    "    grad = (grad - minVal) / (maxVal - minVal)\n",
    "    grad = (grad * 255).astype(\"uint8\")\n",
    "    grad = cv2.morphologyEx(grad, cv2.MORPH_CLOSE, kernel)\n",
    "    thresh = cv2.threshold(grad, 0, 255,cv2.THRESH_BINARY | cv2.THRESH_OTSU)[1]\n",
    "    thresh = cv2.dilate(thresh, None, iterations=3)\n",
    "    return thresh"
   ]
  },
  {
   "cell_type": "code",
   "execution_count": 20,
   "id": "a3c8c35d",
   "metadata": {},
   "outputs": [],
   "source": [
    "def extract_clips(image,kw,kh,grp_id):\n",
    "    original = image.copy()\n",
    "    image = traditional_processing(image,kw,kh)\n",
    "    im_h,im_w = image.shape[:2]\n",
    "    cnts = cv2.findContours(image.copy(), cv2.RETR_EXTERNAL,cv2.CHAIN_APPROX_SIMPLE)\n",
    "    cnts = imutils.grab_contours(cnts)\n",
    "    exp_id = 0\n",
    "    for c in cnts:\n",
    "        (x, y, w, h) = cv2.boundingRect(c)\n",
    "        (xstart,ystart,xend,yend)=(x,y,x+w,y+h)\n",
    "        clip = original[ystart:yend,xstart:xend]\n",
    "        if(x*h>4000 and w>h):\n",
    "            cv2.imwrite(\"datasets/barcode_dir/\"+\"eee\"+str(grp_id)+str(exp_id)+\".jpg\",clip)\n",
    "            exp_id+=1"
   ]
  },
  {
   "cell_type": "code",
   "execution_count": 14,
   "id": "3fc362a5",
   "metadata": {},
   "outputs": [],
   "source": [
    "def face_detect_rotate(image):\n",
    "    trials = 0\n",
    "    while(trials<4):\n",
    "        gray = cv2.cvtColor(image, cv2.COLOR_BGR2GRAY)\n",
    "        face_locations = face_recognition.face_locations(gray)\n",
    "        if(len(face_locations)>0):\n",
    "            main_face = max(face_locations,key = lambda x : abs(x[0] - x[2]) * abs(x[1] - x[3]))\n",
    "            leftX = main_face[1]\n",
    "            return (leftX,image)\n",
    "        else : \n",
    "            image = cv2.rotate(image, cv2.ROTATE_90_CLOCKWISE) \n",
    "            trials += 1\n",
    "    return 0"
   ]
  },
  {
   "cell_type": "code",
   "execution_count": 15,
   "id": "1207c746",
   "metadata": {
    "scrolled": true
   },
   "outputs": [],
   "source": [
    "def show(image):\n",
    "    fig = plt.figure(figsize=(10, 10))\n",
    "    rows = 1\n",
    "    columns = 1\n",
    "    fig.add_subplot(rows, columns, 1)\n",
    "    plt.imshow(image)\n",
    "    plt.title(\"image\")\n",
    "    plt.axis('off')"
   ]
  },
  {
   "cell_type": "code",
   "execution_count": 16,
   "id": "91565418",
   "metadata": {},
   "outputs": [],
   "source": [
    "relative_path = \"../Docs/dataset\"\n",
    "passport_list = os.listdir(relative_path)\n",
    "passport_list = [p for p in passport_list if p[-4:]==\".jpg\"]"
   ]
  },
  {
   "cell_type": "code",
   "execution_count": 21,
   "id": "5d74436c",
   "metadata": {},
   "outputs": [
    {
     "name": "stdout",
     "output_type": "stream",
     "text": [
      "2%=> 4%=> 6%=> 8%=> 10%=> face not found cannot unpack non-iterable int object\n",
      "13%=> 15%=> 17%=> face not found cannot unpack non-iterable int object\n",
      "19%=> 21%=> 23%=> 26%=> 28%=> 30%=> 32%=> 34%=> 36%=> face not found cannot unpack non-iterable int object\n",
      "39%=> 41%=> 43%=> 45%=> 47%=> 50%=> 52%=> 54%=> 56%=> 58%=> 60%=> 63%=> 65%=> 67%=> 69%=> 71%=> 73%=> 76%=> 78%=> 80%=> 82%=> 84%=> 86%=> 89%=> 91%=> 93%=> 95%=> 97%=> 100%=> completed\n"
     ]
    }
   ],
   "source": [
    "grp_id = 0\n",
    "for passport in passport_list:\n",
    "    image = cv2.imread(os.path.join(relative_path,passport))\n",
    "    res = face_detect_rotate(image)\n",
    "    try:\n",
    "        _,rotated = res\n",
    "        image = rotated\n",
    "        (h,w) = image.shape[:2]\n",
    "        area = (h*w)\n",
    "        while(area < 900*1500):\n",
    "            image = cv2.resize(image, ( int(w*1.4), int(h*1.4) ), interpolation = cv2.INTER_AREA)\n",
    "            (h,w) = image.shape[:2]\n",
    "            area = (h*w)\n",
    "        extract_clips(image,40,8,grp_id)\n",
    "    except Exception as e: \n",
    "        print(\"face not found\",e)\n",
    "    grp_id += 1\n",
    "    print( str( int (grp_id / len(passport_list) * 100) )+ \"%\" ,end=\"=> \")\n",
    "print(\"completed\")"
   ]
  },
  {
   "cell_type": "code",
   "execution_count": 67,
   "id": "61f3f570",
   "metadata": {},
   "outputs": [
    {
     "name": "stdout",
     "output_type": "stream",
     "text": [
      "725\n",
      "951\n",
      "2\n"
     ]
    }
   ],
   "source": [
    "dirc = \"datasets/barcode_dir/\"\n",
    "bar_dir = \"datasets/barcode_dir/bar/\"\n",
    "nobar_dir = \"datasets/barcode_dir/no_bar/\"\n",
    "bars = os.listdir(bar_dir)\n",
    "nobars = os.listdir(nobar_dir)\n",
    "dircf = os.listdir(dirc) \n",
    "print(len(bars))\n",
    "print(len(nobars))\n",
    "print(len(dircf))"
   ]
  },
  {
   "cell_type": "code",
   "execution_count": 15,
   "id": "1228023b",
   "metadata": {},
   "outputs": [],
   "source": [
    "for nobar in nobars:\n",
    "    image = cv2.imread(nobar_dir+nobar)\n",
    "    (h,w) = image.shape[:2]\n",
    "    if 50 > w :\n",
    "        os.remove(nobar_dir+nobar)"
   ]
  },
  {
   "cell_type": "code",
   "execution_count": 32,
   "id": "9525ed84",
   "metadata": {},
   "outputs": [],
   "source": [
    "for bar in bars:\n",
    "    image = cv2.imread(bar_dir+bar)\n",
    "    rotated90 = cv2.rotate(image, cv2.ROTATE_90_CLOCKWISE)\n",
    "    fliped = cv2.rotate(rotated90, cv2.ROTATE_90_CLOCKWISE) \n",
    "    gray = cv2.cvtColor(image, cv2.COLOR_BGR2GRAY)\n",
    "    zeros = np.zeros(gray.shape)\n",
    "    rgb = cv2.merge([gray,gray,gray])\n",
    "    cv2.imwrite(bar_dir+\"flip\"+bar,fliped)\n",
    "    cv2.imwrite(bar_dir+\"gray\"+bar,rgb)\n",
    "    cv2.imwrite(bar_dir+\"half1\"+bar,image[:,0:int(image.shape[1]/2)])\n",
    "    cv2.imwrite(bar_dir+\"half2\"+bar,image[:,int(image.shape[1]/2):image.shape[1]])"
   ]
  },
  {
   "cell_type": "code",
   "execution_count": 34,
   "id": "11bf2736",
   "metadata": {},
   "outputs": [
    {
     "name": "stdout",
     "output_type": "stream",
     "text": [
      "not an image OpenCV(4.5.4) D:\\a\\opencv-python\\opencv-python\\opencv\\modules\\imgproc\\src\\color.cpp:182: error: (-215:Assertion failed) !_src.empty() in function 'cv::cvtColor'\n",
      "\n",
      "not an image OpenCV(4.5.4) D:\\a\\opencv-python\\opencv-python\\opencv\\modules\\imgproc\\src\\color.cpp:182: error: (-215:Assertion failed) !_src.empty() in function 'cv::cvtColor'\n",
      "\n"
     ]
    }
   ],
   "source": [
    "for bar in dircf:\n",
    "    try:\n",
    "        image = cv2.imread(dirc+bar)\n",
    "        rotated90 = cv2.rotate(image, cv2.ROTATE_90_CLOCKWISE)\n",
    "        fliped = cv2.rotate(rotated90, cv2.ROTATE_90_CLOCKWISE) \n",
    "        gray = cv2.cvtColor(image, cv2.COLOR_BGR2GRAY)\n",
    "        zeros = np.zeros(gray.shape)\n",
    "        rgb = cv2.merge([gray,gray,gray])\n",
    "        cv2.imwrite(dirc+\"flip\"+bar,fliped)\n",
    "        cv2.imwrite(dirc+\"gray\"+bar,rgb)\n",
    "        cv2.imwrite(dirc+\"half1\"+bar,image[:,0:int(image.shape[1]/2)])\n",
    "        cv2.imwrite(dirc+\"half2\"+bar,image[:,int(image.shape[1]/2):image.shape[1]])\n",
    "    except Exception as e:\n",
    "        print(\"not an image\",e)"
   ]
  },
  {
   "cell_type": "code",
   "execution_count": 12,
   "id": "6ed0b1b2",
   "metadata": {},
   "outputs": [],
   "source": [
    "bars = [s for s in bars if \"Copy\" in s]"
   ]
  },
  {
   "cell_type": "code",
   "execution_count": 42,
   "id": "3be6533a",
   "metadata": {},
   "outputs": [
    {
     "name": "stdout",
     "output_type": "stream",
     "text": [
      "725\n"
     ]
    }
   ],
   "source": [
    "print(len(bars))"
   ]
  },
  {
   "cell_type": "code",
   "execution_count": 14,
   "id": "009e29ac",
   "metadata": {},
   "outputs": [],
   "source": [
    "for bar in bars:\n",
    "    os.remove(bar_dir+bar)"
   ]
  },
  {
   "cell_type": "code",
   "execution_count": 16,
   "id": "53aa2b9d",
   "metadata": {},
   "outputs": [
    {
     "data": {
      "text/plain": [
       "63.0"
      ]
     },
     "execution_count": 16,
     "metadata": {},
     "output_type": "execute_result"
    }
   ],
   "source": [
    "378/6"
   ]
  },
  {
   "cell_type": "code",
   "execution_count": 68,
   "id": "0d71eb2b",
   "metadata": {},
   "outputs": [
    {
     "data": {
      "text/html": [
       "<div>\n",
       "<style scoped>\n",
       "    .dataframe tbody tr th:only-of-type {\n",
       "        vertical-align: middle;\n",
       "    }\n",
       "\n",
       "    .dataframe tbody tr th {\n",
       "        vertical-align: top;\n",
       "    }\n",
       "\n",
       "    .dataframe thead th {\n",
       "        text-align: right;\n",
       "    }\n",
       "</style>\n",
       "<table border=\"1\" class=\"dataframe\">\n",
       "  <thead>\n",
       "    <tr style=\"text-align: right;\">\n",
       "      <th></th>\n",
       "      <th>0</th>\n",
       "      <th>1</th>\n",
       "      <th>2</th>\n",
       "      <th>3</th>\n",
       "    </tr>\n",
       "  </thead>\n",
       "  <tbody>\n",
       "    <tr>\n",
       "      <th>count</th>\n",
       "      <td>1676.0</td>\n",
       "      <td>1676.0</td>\n",
       "      <td>1.676000e+03</td>\n",
       "      <td>1676.000000</td>\n",
       "    </tr>\n",
       "    <tr>\n",
       "      <th>mean</th>\n",
       "      <td>70.0</td>\n",
       "      <td>400.0</td>\n",
       "      <td>1.750000e-01</td>\n",
       "      <td>0.567422</td>\n",
       "    </tr>\n",
       "    <tr>\n",
       "      <th>std</th>\n",
       "      <td>0.0</td>\n",
       "      <td>0.0</td>\n",
       "      <td>5.552772e-15</td>\n",
       "      <td>0.495581</td>\n",
       "    </tr>\n",
       "    <tr>\n",
       "      <th>min</th>\n",
       "      <td>70.0</td>\n",
       "      <td>400.0</td>\n",
       "      <td>1.750000e-01</td>\n",
       "      <td>0.000000</td>\n",
       "    </tr>\n",
       "    <tr>\n",
       "      <th>25%</th>\n",
       "      <td>70.0</td>\n",
       "      <td>400.0</td>\n",
       "      <td>1.750000e-01</td>\n",
       "      <td>0.000000</td>\n",
       "    </tr>\n",
       "    <tr>\n",
       "      <th>50%</th>\n",
       "      <td>70.0</td>\n",
       "      <td>400.0</td>\n",
       "      <td>1.750000e-01</td>\n",
       "      <td>1.000000</td>\n",
       "    </tr>\n",
       "    <tr>\n",
       "      <th>75%</th>\n",
       "      <td>70.0</td>\n",
       "      <td>400.0</td>\n",
       "      <td>1.750000e-01</td>\n",
       "      <td>1.000000</td>\n",
       "    </tr>\n",
       "    <tr>\n",
       "      <th>max</th>\n",
       "      <td>70.0</td>\n",
       "      <td>400.0</td>\n",
       "      <td>1.750000e-01</td>\n",
       "      <td>1.000000</td>\n",
       "    </tr>\n",
       "  </tbody>\n",
       "</table>\n",
       "</div>"
      ],
      "text/plain": [
       "            0       1             2            3\n",
       "count  1676.0  1676.0  1.676000e+03  1676.000000\n",
       "mean     70.0   400.0  1.750000e-01     0.567422\n",
       "std       0.0     0.0  5.552772e-15     0.495581\n",
       "min      70.0   400.0  1.750000e-01     0.000000\n",
       "25%      70.0   400.0  1.750000e-01     0.000000\n",
       "50%      70.0   400.0  1.750000e-01     1.000000\n",
       "75%      70.0   400.0  1.750000e-01     1.000000\n",
       "max      70.0   400.0  1.750000e-01     1.000000"
      ]
     },
     "execution_count": 68,
     "metadata": {},
     "output_type": "execute_result"
    }
   ],
   "source": [
    "records = []\n",
    "for bar in bars : \n",
    "    image = cv2.imread(bar_dir+bar)\n",
    "    h,w = image.shape[:2]\n",
    "    records.append((h,w,h/w,0))\n",
    "    \n",
    "for nobar in nobars : \n",
    "    image = cv2.imread(nobar_dir+nobar)\n",
    "    h,w = image.shape[:2]\n",
    "    records.append((h,w,h/w,1))\n",
    "df = pd.DataFrame(records)\n",
    "df.describe()"
   ]
  },
  {
   "cell_type": "code",
   "execution_count": 69,
   "id": "2b967784",
   "metadata": {},
   "outputs": [
    {
     "data": {
      "text/html": [
       "<div>\n",
       "<style scoped>\n",
       "    .dataframe tbody tr th:only-of-type {\n",
       "        vertical-align: middle;\n",
       "    }\n",
       "\n",
       "    .dataframe tbody tr th {\n",
       "        vertical-align: top;\n",
       "    }\n",
       "\n",
       "    .dataframe thead th {\n",
       "        text-align: right;\n",
       "    }\n",
       "</style>\n",
       "<table border=\"1\" class=\"dataframe\">\n",
       "  <thead>\n",
       "    <tr style=\"text-align: right;\">\n",
       "      <th></th>\n",
       "      <th>0</th>\n",
       "      <th>1</th>\n",
       "      <th>2</th>\n",
       "      <th>3</th>\n",
       "    </tr>\n",
       "  </thead>\n",
       "  <tbody>\n",
       "    <tr>\n",
       "      <th>count</th>\n",
       "      <td>725.0</td>\n",
       "      <td>725.0</td>\n",
       "      <td>7.250000e+02</td>\n",
       "      <td>725.0</td>\n",
       "    </tr>\n",
       "    <tr>\n",
       "      <th>mean</th>\n",
       "      <td>70.0</td>\n",
       "      <td>400.0</td>\n",
       "      <td>1.750000e-01</td>\n",
       "      <td>0.0</td>\n",
       "    </tr>\n",
       "    <tr>\n",
       "      <th>std</th>\n",
       "      <td>0.0</td>\n",
       "      <td>0.0</td>\n",
       "      <td>1.999781e-15</td>\n",
       "      <td>0.0</td>\n",
       "    </tr>\n",
       "    <tr>\n",
       "      <th>min</th>\n",
       "      <td>70.0</td>\n",
       "      <td>400.0</td>\n",
       "      <td>1.750000e-01</td>\n",
       "      <td>0.0</td>\n",
       "    </tr>\n",
       "    <tr>\n",
       "      <th>25%</th>\n",
       "      <td>70.0</td>\n",
       "      <td>400.0</td>\n",
       "      <td>1.750000e-01</td>\n",
       "      <td>0.0</td>\n",
       "    </tr>\n",
       "    <tr>\n",
       "      <th>50%</th>\n",
       "      <td>70.0</td>\n",
       "      <td>400.0</td>\n",
       "      <td>1.750000e-01</td>\n",
       "      <td>0.0</td>\n",
       "    </tr>\n",
       "    <tr>\n",
       "      <th>75%</th>\n",
       "      <td>70.0</td>\n",
       "      <td>400.0</td>\n",
       "      <td>1.750000e-01</td>\n",
       "      <td>0.0</td>\n",
       "    </tr>\n",
       "    <tr>\n",
       "      <th>max</th>\n",
       "      <td>70.0</td>\n",
       "      <td>400.0</td>\n",
       "      <td>1.750000e-01</td>\n",
       "      <td>0.0</td>\n",
       "    </tr>\n",
       "  </tbody>\n",
       "</table>\n",
       "</div>"
      ],
      "text/plain": [
       "           0      1             2      3\n",
       "count  725.0  725.0  7.250000e+02  725.0\n",
       "mean    70.0  400.0  1.750000e-01    0.0\n",
       "std      0.0    0.0  1.999781e-15    0.0\n",
       "min     70.0  400.0  1.750000e-01    0.0\n",
       "25%     70.0  400.0  1.750000e-01    0.0\n",
       "50%     70.0  400.0  1.750000e-01    0.0\n",
       "75%     70.0  400.0  1.750000e-01    0.0\n",
       "max     70.0  400.0  1.750000e-01    0.0"
      ]
     },
     "execution_count": 69,
     "metadata": {},
     "output_type": "execute_result"
    }
   ],
   "source": [
    "bars = df.loc[df[3] == 0]\n",
    "bars.describe()"
   ]
  },
  {
   "cell_type": "code",
   "execution_count": 51,
   "id": "48f7bc5a",
   "metadata": {},
   "outputs": [
    {
     "name": "stdout",
     "output_type": "stream",
     "text": [
      "62     74\n",
      "53     16\n",
      "65     16\n",
      "66     14\n",
      "58     13\n",
      "       ..\n",
      "343     1\n",
      "319     1\n",
      "21      1\n",
      "469     1\n",
      "277     1\n",
      "Name: 1, Length: 342, dtype: int64\n"
     ]
    },
    {
     "data": {
      "text/plain": [
       "<BarContainer object of 342 artists>"
      ]
     },
     "execution_count": 51,
     "metadata": {},
     "output_type": "execute_result"
    },
    {
     "data": {
      "image/png": "[encoded data removed]",
      "text/plain": [
       "<Figure size 432x288 with 1 Axes>"
      ]
     },
     "metadata": {
      "needs_background": "light"
     },
     "output_type": "display_data"
    }
   ],
   "source": [
    "idxs = df[1].unique()\n",
    "\n",
    "values = df[1].value_counts()\n",
    "print(values)\n",
    "plt.bar(idxs,values)"
   ]
  },
  {
   "cell_type": "code",
   "execution_count": 56,
   "id": "bf3bb360",
   "metadata": {},
   "outputs": [
    {
     "data": {
      "text/plain": [
       "['bar/03.jpg', 'bar/10.jpg', 'bar/102.jpg', 'bar/110.jpg', 'bar/128.jpg']"
      ]
     },
     "execution_count": 56,
     "metadata": {},
     "output_type": "execute_result"
    }
   ],
   "source": [
    "bars[:5]"
   ]
  },
  {
   "cell_type": "code",
   "execution_count": 50,
   "id": "7ef529ee",
   "metadata": {},
   "outputs": [
    {
     "name": "stdout",
     "output_type": "stream",
     "text": [
      "1676\n"
     ]
    }
   ],
   "source": [
    "target_shape = (300,70)\n",
    "bars = [\"bar/\"+b for b in bars]\n",
    "nobars = [\"no_bar/\"+b for b in nobars]\n",
    "paths = bars + nobars\n",
    "print(len(paths))"
   ]
  },
  {
   "cell_type": "code",
   "execution_count": 51,
   "id": "4165502e",
   "metadata": {},
   "outputs": [
    {
     "name": "stdout",
     "output_type": "stream",
     "text": [
      "1676\n"
     ]
    }
   ],
   "source": [
    "paths = [p for p in paths if p[-4:]==\".jpg\"]\n",
    "print(len(paths))"
   ]
  },
  {
   "cell_type": "code",
   "execution_count": 65,
   "id": "176424eb",
   "metadata": {},
   "outputs": [],
   "source": [
    "for path in paths:\n",
    "        path = os.path.join(\"datasets/barcode_dir\",path)\n",
    "        image = cv2.imread(path)\n",
    "        resized = cv2.resize(image, (400,70), interpolation = cv2.INTER_AREA)\n",
    "        os.remove(path)\n",
    "        cv2.imwrite(path,resized)"
   ]
  },
  {
   "cell_type": "code",
   "execution_count": 4,
   "id": "c1c6a921",
   "metadata": {},
   "outputs": [
    {
     "data": {
      "text/plain": [
       "<BarContainer object of 9 artists>"
      ]
     },
     "execution_count": 4,
     "metadata": {},
     "output_type": "execute_result"
    },
    {
     "data": {
      "image/png": "[encoded data removed]",
      "text/plain": [
       "<Figure size 432x288 with 1 Axes>"
      ]
     },
     "metadata": {
      "needs_background": "light"
     },
     "output_type": "display_data"
    }
   ],
   "source": [
    "import matplotlib.pyplot as plt\n",
    "indx = [1,2,3,4,5,6,7,8,9]\n",
    "values = [4,5,13,17,9,0,2,0,2]\n",
    "plt.bar(indx,values)"
   ]
  },
  {
   "cell_type": "code",
   "execution_count": 10,
   "id": "38a21b3e",
   "metadata": {},
   "outputs": [],
   "source": [
    "import pandas as pd\n",
    "df = pd.DataFrame([[278, 33, 8.43, \"bar/10.jpg\",1],\n",
    "                   [502, 70, 7.17, \"bar/55.jpg\",1],\n",
    "                   [366, 40, 9.15, \"bar/105.jpg\",1],\n",
    "                   [470, 71, 6.71, \"bar/188.jpg\",1],\n",
    "                   [423, 35, 12.34, \"bar/237.jpg\",1],\n",
    "                ])"
   ]
  },
  {
   "cell_type": "code",
   "execution_count": 12,
   "id": "40f198cc",
   "metadata": {},
   "outputs": [],
   "source": [
    "df[\"width\"] = df[0]\n",
    "df[\"height\"] = df[1]\n",
    "df[\"ratio\"] = df[2]\n",
    "df[\"path\"] = df[3]\n",
    "df[\"class\"] = df[4]"
   ]
  },
  {
   "cell_type": "code",
   "execution_count": 15,
   "id": "434afe43",
   "metadata": {},
   "outputs": [
    {
     "data": {
      "text/html": [
       "<div>\n",
       "<style scoped>\n",
       "    .dataframe tbody tr th:only-of-type {\n",
       "        vertical-align: middle;\n",
       "    }\n",
       "\n",
       "    .dataframe tbody tr th {\n",
       "        vertical-align: top;\n",
       "    }\n",
       "\n",
       "    .dataframe thead th {\n",
       "        text-align: right;\n",
       "    }\n",
       "</style>\n",
       "<table border=\"1\" class=\"dataframe\">\n",
       "  <thead>\n",
       "    <tr style=\"text-align: right;\">\n",
       "      <th></th>\n",
       "      <th>width</th>\n",
       "      <th>height</th>\n",
       "      <th>ratio</th>\n",
       "      <th>path</th>\n",
       "      <th>class</th>\n",
       "    </tr>\n",
       "  </thead>\n",
       "  <tbody>\n",
       "    <tr>\n",
       "      <th>0</th>\n",
       "      <td>278</td>\n",
       "      <td>33</td>\n",
       "      <td>8.43</td>\n",
       "      <td>bar/10.jpg</td>\n",
       "      <td>1</td>\n",
       "    </tr>\n",
       "    <tr>\n",
       "      <th>1</th>\n",
       "      <td>502</td>\n",
       "      <td>70</td>\n",
       "      <td>7.17</td>\n",
       "      <td>bar/55.jpg</td>\n",
       "      <td>1</td>\n",
       "    </tr>\n",
       "    <tr>\n",
       "      <th>2</th>\n",
       "      <td>366</td>\n",
       "      <td>40</td>\n",
       "      <td>9.15</td>\n",
       "      <td>bar/105.jpg</td>\n",
       "      <td>1</td>\n",
       "    </tr>\n",
       "    <tr>\n",
       "      <th>3</th>\n",
       "      <td>470</td>\n",
       "      <td>71</td>\n",
       "      <td>6.71</td>\n",
       "      <td>bar/188.jpg</td>\n",
       "      <td>1</td>\n",
       "    </tr>\n",
       "    <tr>\n",
       "      <th>4</th>\n",
       "      <td>423</td>\n",
       "      <td>35</td>\n",
       "      <td>12.34</td>\n",
       "      <td>bar/237.jpg</td>\n",
       "      <td>1</td>\n",
       "    </tr>\n",
       "  </tbody>\n",
       "</table>\n",
       "</div>"
      ],
      "text/plain": [
       "   width  height  ratio         path  class\n",
       "0    278      33   8.43   bar/10.jpg      1\n",
       "1    502      70   7.17   bar/55.jpg      1\n",
       "2    366      40   9.15  bar/105.jpg      1\n",
       "3    470      71   6.71  bar/188.jpg      1\n",
       "4    423      35  12.34  bar/237.jpg      1"
      ]
     },
     "execution_count": 15,
     "metadata": {},
     "output_type": "execute_result"
    }
   ],
   "source": [
    "df.drop([0,1,2,3,4],axis=1)"
   ]
  },
  {
   "cell_type": "code",
   "execution_count": 22,
   "id": "dd363d49",
   "metadata": {},
   "outputs": [
    {
     "data": {
      "image/png": "[encoded data removed]",
      "text/plain": [
       "<Figure size 432x288 with 1 Axes>"
      ]
     },
     "metadata": {
      "needs_background": "light"
     },
     "output_type": "display_data"
    }
   ],
   "source": [
    "import matplotlib.pyplot as plt\n",
    "import numpy as np\n",
    "import scipy.stats as stats\n",
    "import math\n",
    "\n",
    "mu = 0\n",
    "variance = 4\n",
    "sigma = math.sqrt(variance)\n",
    "x = np.linspace(mu - 3*sigma, mu + 3*sigma, 100)\n",
    "plt.plot(x, stats.norm.pdf(x, mu, sigma))\n",
    "mu = 4\n",
    "variance = 5\n",
    "sigma = math.sqrt(variance)\n",
    "x = np.linspace(mu - 3*sigma, mu + 3*sigma, 100)\n",
    "plt.plot(x, stats.norm.pdf(x, mu, sigma))\n",
    "plt.show()"
   ]
  },
  {
   "cell_type": "code",
   "execution_count": null,
   "id": "1df2d4ec",
   "metadata": {},
   "outputs": [],
   "source": []
  }
 ],
 "metadata": {
  "kernelspec": {
   "display_name": "Python 3 (ipykernel)",
   "language": "python",
   "name": "python3"
  },
  "language_info": {
   "codemirror_mode": {
    "name": "ipython",
    "version": 3
   },
   "file_extension": ".py",
   "mimetype": "text/x-python",
   "name": "python",
   "nbconvert_exporter": "python",
   "pygments_lexer": "ipython3",
   "version": "3.9.12"
  }
 },
 "nbformat": 4,
 "nbformat_minor": 5
}
