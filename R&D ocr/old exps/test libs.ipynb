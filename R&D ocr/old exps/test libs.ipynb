{
 "cells": [
  {
   "cell_type": "code",
   "execution_count": 1,
   "id": "3ec10ec5",
   "metadata": {},
   "outputs": [],
   "source": [
    "import dlib"
   ]
  },
  {
   "cell_type": "code",
   "execution_count": null,
   "id": "a56005b8",
   "metadata": {},
   "outputs": [],
   "source": []
  },
  {
   "cell_type": "code",
   "execution_count": 9,
   "id": "3e1594dd",
   "metadata": {},
   "outputs": [],
   "source": [
    "import matplotlib.pyplot as plt"
   ]
  },
  {
   "cell_type": "code",
   "execution_count": 2,
   "id": "be932e98",
   "metadata": {},
   "outputs": [],
   "source": [
    "import face_recognition"
   ]
  },
  {
   "cell_type": "code",
   "execution_count": 7,
   "id": "1549ee06",
   "metadata": {},
   "outputs": [],
   "source": [
    "from PIL import Image, ImageDraw"
   ]
  },
  {
   "cell_type": "code",
   "execution_count": 13,
   "id": "8c91ed41",
   "metadata": {},
   "outputs": [],
   "source": [
    "import numpy as np\n",
    "import cv2"
   ]
  },
  {
   "cell_type": "code",
   "execution_count": 8,
   "id": "ec23e14b",
   "metadata": {},
   "outputs": [
    {
     "name": "stdout",
     "output_type": "stream",
     "text": [
      "Found 2 faces in this photograph.\n"
     ]
    }
   ],
   "source": [
    "image = face_recognition.load_image_file(\"testing.jpg\")\n",
    "face_locations = face_recognition.face_locations(image)\n",
    "print(\"Found {} faces in this photograph.\".format(len(face_locations)))"
   ]
  },
  {
   "cell_type": "code",
   "execution_count": 14,
   "id": "2a8d2cbd",
   "metadata": {},
   "outputs": [
    {
     "data": {
      "text/plain": [
       "-1"
      ]
     },
     "execution_count": 14,
     "metadata": {},
     "output_type": "execute_result"
    }
   ],
   "source": [
    "pil_image = Image.fromarray(image)\n",
    "for face_location in face_locations:\n",
    "    top, right, bottom, left = face_location\n",
    "    shape = [(left, top), (right, bottom)] \n",
    "    img1 = ImageDraw.Draw(pil_image)   \n",
    "    img1.rectangle(shape, outline =\"red\", width=4) \n",
    "passport = np.asarray(pil_image)\n",
    "cv2.imshow('texture.jpg', passport)\n",
    "cv2.waitKey(0)"
   ]
  },
  {
   "cell_type": "code",
   "execution_count": null,
   "id": "598b1ba4",
   "metadata": {},
   "outputs": [],
   "source": [
    "from ArabicOcr import arabicocr"
   ]
  },
  {
   "cell_type": "code",
   "execution_count": null,
   "id": "3fd04873",
   "metadata": {},
   "outputs": [],
   "source": [
    "image_path='testing2.png'\n",
    "out_image='out.jpg'\n",
    "results=arabicocr.arabic_ocr(image_path,out_image)\n",
    "words=[]\n",
    "for i in range(len(results)) :\n",
    "        word=results[i][1]\n",
    "        words.append(word)"
   ]
  },
  {
   "cell_type": "code",
   "execution_count": 7,
   "id": "5af193db",
   "metadata": {},
   "outputs": [],
   "source": [
    "def show2(image1,image2):\n",
    "    fig = plt.figure(figsize=(15, 10))\n",
    "    rows = 1\n",
    "    columns = 2\n",
    "    fig.add_subplot(rows, columns, 1)\n",
    "    plt.imshow(image1)\n",
    "    plt.title(\"image1\")\n",
    "    plt.axis('off')\n",
    "    fig.add_subplot(rows, columns, 2)\n",
    "    plt.imshow(image2)\n",
    "    plt.title(\"image2\")\n",
    "    plt.axis('off')"
   ]
  },
  {
   "cell_type": "code",
   "execution_count": 1,
   "id": "7c98f76d",
   "metadata": {},
   "outputs": [
    {
     "ename": "NameError",
     "evalue": "name 'cv2' is not defined",
     "output_type": "error",
     "traceback": [
      "\u001b[1;31m---------------------------------------------------------------------------\u001b[0m",
      "\u001b[1;31mNameError\u001b[0m                                 Traceback (most recent call last)",
      "Input \u001b[1;32mIn [1]\u001b[0m, in \u001b[0;36m<cell line: 1>\u001b[1;34m()\u001b[0m\n\u001b[1;32m----> 1\u001b[0m image \u001b[38;5;241m=\u001b[39m \u001b[43mcv2\u001b[49m\u001b[38;5;241m.\u001b[39mimread(\u001b[38;5;124m\"\u001b[39m\u001b[38;5;124mtesting2.png\u001b[39m\u001b[38;5;124m\"\u001b[39m)\n\u001b[0;32m      2\u001b[0m image \u001b[38;5;241m=\u001b[39m cv2\u001b[38;5;241m.\u001b[39mresize(image, dsize\u001b[38;5;241m=\u001b[39m(\u001b[38;5;241m1024\u001b[39m, \u001b[38;5;241m1024\u001b[39m), interpolation\u001b[38;5;241m=\u001b[39mcv2\u001b[38;5;241m.\u001b[39mINTER_LINEAR)\n\u001b[0;32m      3\u001b[0m denoised \u001b[38;5;241m=\u001b[39m cv2\u001b[38;5;241m.\u001b[39mfastNlMeansDenoisingColored(image,\u001b[38;5;28;01mNone\u001b[39;00m,\u001b[38;5;241m10\u001b[39m,\u001b[38;5;241m10\u001b[39m,\u001b[38;5;241m7\u001b[39m,\u001b[38;5;241m21\u001b[39m)\n",
      "\u001b[1;31mNameError\u001b[0m: name 'cv2' is not defined"
     ]
    }
   ],
   "source": [
    "image = cv2.imread(\"testing2.png\")\n",
    "image = cv2.resize(image, dsize=(1024, 1024), interpolation=cv2.INTER_LINEAR)\n",
    "denoised = cv2.fastNlMeansDenoisingColored(image,None,10,10,7,21)\n",
    "show2(image,denoised)"
   ]
  },
  {
   "cell_type": "code",
   "execution_count": 1,
   "id": "06ac5b4c",
   "metadata": {},
   "outputs": [],
   "source": [
    "import torch"
   ]
  },
  {
   "cell_type": "code",
   "execution_count": 2,
   "id": "1dca1cea",
   "metadata": {},
   "outputs": [
    {
     "data": {
      "text/plain": [
       "False"
      ]
     },
     "execution_count": 2,
     "metadata": {},
     "output_type": "execute_result"
    }
   ],
   "source": [
    "torch.cuda.is_available()"
   ]
  },
  {
   "cell_type": "code",
   "execution_count": null,
   "id": "44a5a470",
   "metadata": {},
   "outputs": [],
   "source": []
  }
 ],
 "metadata": {
  "kernelspec": {
   "display_name": "Python 3 (ipykernel)",
   "language": "python",
   "name": "python3"
  },
  "language_info": {
   "codemirror_mode": {
    "name": "ipython",
    "version": 3
   },
   "file_extension": ".py",
   "mimetype": "text/x-python",
   "name": "python",
   "nbconvert_exporter": "python",
   "pygments_lexer": "ipython3",
   "version": "3.9.12"
  }
 },
 "nbformat": 4,
 "nbformat_minor": 5
}
