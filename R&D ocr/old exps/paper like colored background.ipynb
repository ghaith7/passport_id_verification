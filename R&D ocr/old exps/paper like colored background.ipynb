{
 "cells": [
  {
   "cell_type": "code",
   "execution_count": 1,
   "id": "4ede3c10",
   "metadata": {},
   "outputs": [],
   "source": [
    "import matplotlib.pyplot as plt\n",
    "\n",
    "def show(image):\n",
    "    fig = plt.figure(figsize=(10, 10))\n",
    "    rows = 1\n",
    "    columns = 1\n",
    "    fig.add_subplot(rows, columns, 1)\n",
    "    plt.imshow(image)\n",
    "    plt.title(\"image\")\n",
    "    plt.axis('off')"
   ]
  },
  {
   "cell_type": "code",
   "execution_count": 4,
   "id": "6abf8cea",
   "metadata": {},
   "outputs": [
    {
     "data": {
      "text/plain": [
       "-1"
      ]
     },
     "execution_count": 4,
     "metadata": {},
     "output_type": "execute_result"
    }
   ],
   "source": [
    "import cv2\n",
    "import numpy as np\n",
    "\n",
    "\n",
    "BG_COLOR = [150,170,160]\n",
    "BG_SIGMA = 5\n",
    "MONOCHROME = 3\n",
    "\n",
    "\n",
    "def blank_image(width=1024, height=1024, background=BG_COLOR):\n",
    "    \"\"\"\n",
    "    It creates a blank image of the given background color\n",
    "    \"\"\"\n",
    "    img = np.full((height, width, MONOCHROME), background, np.uint8)\n",
    "    return img\n",
    "\n",
    "\n",
    "def add_noise(img, sigma=BG_SIGMA):\n",
    "    \"\"\"\n",
    "    Adds noise to the existing image\n",
    "    \"\"\"\n",
    "    width, height, ch = img.shape\n",
    "    n = noise(width, height, sigma=sigma)\n",
    "    img = img + n\n",
    "    return img.clip(0, 255)\n",
    "\n",
    "\n",
    "def noise(width, height, ratio=1, sigma=BG_SIGMA):\n",
    "    \"\"\"\n",
    "    The function generates an image, filled with gaussian nose. If ratio parameter is specified,\n",
    "    noise will be generated for a lesser image and then it will be upscaled to the original size.\n",
    "    In that case noise will generate larger square patterns. To avoid multiple lines, the upscale\n",
    "    uses interpolation.\n",
    "\n",
    "    :param ratio: the size of generated noise \"pixels\"\n",
    "    :param sigma: defines bounds of noise fluctuations\n",
    "    \"\"\"\n",
    "    mean = 0\n",
    "    assert width % ratio == 0, \"Can't scale image with of size {} and ratio {}\".format(width, ratio)\n",
    "    assert height % ratio == 0, \"Can't scale image with of size {} and ratio {}\".format(height, ratio)\n",
    "\n",
    "    h = int(height / ratio)\n",
    "    w = int(width / ratio)\n",
    "\n",
    "    result = np.random.normal(mean, sigma, (w, h, MONOCHROME))\n",
    "    if ratio > 1:\n",
    "        result = cv2.resize(result, dsize=(width, height), interpolation=cv2.INTER_LINEAR)\n",
    "    return result.reshape((width, height, MONOCHROME))\n",
    "\n",
    "\n",
    "def texture(image, sigma=BG_SIGMA, turbulence=2):\n",
    "    \"\"\"\n",
    "    Consequently applies noise patterns to the original image from big to small.\n",
    "\n",
    "    sigma: defines bounds of noise fluctuations\n",
    "    turbulence: defines how quickly big patterns will be replaced with the small ones. The lower\n",
    "    value - the more iterations will be performed during texture generation.\n",
    "    \"\"\"\n",
    "    result = image.astype(float)\n",
    "    cols, rows, ch = image.shape\n",
    "    ratio = cols\n",
    "    while not ratio == 1:\n",
    "        result += noise(cols, rows, ratio, sigma=sigma)\n",
    "        ratio = (ratio // turbulence) or 1\n",
    "    cut = np.clip(result, 0, 255)\n",
    "    return cut.astype(np.uint8)\n",
    "\n",
    "image = texture(blank_image(background=230), sigma=4, turbulence=4)\n",
    "cv2.imshow(\"paper\",image)\n",
    "cv2.waitKey(0)"
   ]
  },
  {
   "cell_type": "code",
   "execution_count": null,
   "id": "7f0ace46",
   "metadata": {},
   "outputs": [],
   "source": []
  }
 ],
 "metadata": {
  "kernelspec": {
   "display_name": "Python 3 (ipykernel)",
   "language": "python",
   "name": "python3"
  },
  "language_info": {
   "codemirror_mode": {
    "name": "ipython",
    "version": 3
   },
   "file_extension": ".py",
   "mimetype": "text/x-python",
   "name": "python",
   "nbconvert_exporter": "python",
   "pygments_lexer": "ipython3",
   "version": "3.9.12"
  }
 },
 "nbformat": 4,
 "nbformat_minor": 5
}
